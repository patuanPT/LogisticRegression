{
 "cells": [
  {
   "cell_type": "markdown",
   "metadata": {},
   "source": [
    "# Logistics Regression OOP Version (Multiclass: softmax)"
   ]
  },
  {
   "cell_type": "markdown",
   "metadata": {},
   "source": [
    "### Penulis: Patuan P. Tampubolon"
   ]
  },
  {
   "cell_type": "code",
   "execution_count": 206,
   "metadata": {},
   "outputs": [],
   "source": [
    "from sklearn import datasets\n",
    "from sklearn.model_selection import train_test_split"
   ]
  },
  {
   "cell_type": "code",
   "execution_count": 207,
   "metadata": {},
   "outputs": [],
   "source": [
    "import numpy as np\n",
    "\n",
    "class LogisticRegression:\n",
    "    \n",
    "    def __init__(self, alpha=0.01, num_iter = 1000, verbose = False):\n",
    "        self.alpha = alpha\n",
    "        self.num_iter = num_iter\n",
    "        self.verbose = verbose\n",
    "        \n",
    "    # method utama\n",
    "    def fit(self,x,y):\n",
    "        x = self.__addintercept(x)\n",
    "        y = self.__relabel_data(y)\n",
    "        self.theta = np.zeros(x.shape[1]*y.shape[1]).reshape(x.shape[1],y.shape[1])\n",
    "        for i in range(self.num_iter):\n",
    "            z = np.dot(x, self.theta)\n",
    "            h = self.__softmax(z)\n",
    "            gradient = np.dot(x.T, (h - y)) / y.shape[0]\n",
    "            self.theta = self.theta - self.alpha * gradient\n",
    "            loss = self.__cost(h, y).mean()\n",
    "            if(self.verbose):\n",
    "                print('loss: {}'.format(loss))\n",
    "                \n",
    "    def predict(self, Xt):\n",
    "        Xt = self.__addintercept(Xt) # diberi intercept 4.9\n",
    "        pred = self.__softmax(np.dot(Xt,self.theta))\n",
    "        pred_max = np.zeros(len(pred))\n",
    "        for i in range(len(pred)):\n",
    "            rr = np.where(pred [i,:] == max(pred[i,:]))\n",
    "            pred_max[i] = rr[0][0]\n",
    "        return pred_max\n",
    "    \n",
    "    # tools\n",
    "    def __addintercept(self, x):\n",
    "        return np.concatenate((np.ones((len(x))).reshape(-1,1), x),axis = 1)\n",
    "    \n",
    "    def __relabel_data(self, y):\n",
    "        label = list(set(y))\n",
    "        relabeled_data = np.zeros(len(y)*len(label)).reshape(len(y),len(label))\n",
    "        for i in range(len(label)):\n",
    "            relabeled_data[y==label[i],i] = 1\n",
    "        return relabeled_data\n",
    "    \n",
    "    def __softmax(self, z):\n",
    "        z -= np.max(z)\n",
    "        sm = (np.exp(z).T / np.sum(np.exp(z),axis=1)).T\n",
    "        return sm\n",
    "    \n",
    "    def __cost(self, h, y):\n",
    "        return np.mean(np.sum(-y * np.log(h) - (1 - y) * np.log(1 - h),axis=1))"
   ]
  },
  {
   "cell_type": "markdown",
   "metadata": {},
   "source": [
    "### Load data"
   ]
  },
  {
   "cell_type": "code",
   "execution_count": 208,
   "metadata": {},
   "outputs": [],
   "source": [
    "iris = datasets.load_iris()"
   ]
  },
  {
   "cell_type": "code",
   "execution_count": 209,
   "metadata": {},
   "outputs": [
    {
     "data": {
      "text/plain": [
       "array([[4.9, 3. , 1.4, 0.2],\n",
       "       [4.7, 3.2, 1.3, 0.2],\n",
       "       [4.6, 3.1, 1.5, 0.2],\n",
       "       [5. , 3.6, 1.4, 0.2],\n",
       "       [5.4, 3.9, 1.7, 0.4],\n",
       "       [4.6, 3.4, 1.4, 0.3],\n",
       "       [5. , 3.4, 1.5, 0.2],\n",
       "       [4.4, 2.9, 1.4, 0.2],\n",
       "       [4.9, 3.1, 1.5, 0.1]])"
      ]
     },
     "execution_count": 209,
     "metadata": {},
     "output_type": "execute_result"
    }
   ],
   "source": [
    "X = iris.data\n",
    "X[1:10]"
   ]
  },
  {
   "cell_type": "code",
   "execution_count": 210,
   "metadata": {},
   "outputs": [
    {
     "data": {
      "text/plain": [
       "array([0, 0, 0, 0, 0, 0, 0, 0, 0, 0, 0, 0, 0, 0, 0, 0, 0, 0, 0, 0, 0, 0,\n",
       "       0, 0, 0, 0, 0, 0, 0, 0, 0, 0, 0, 0, 0, 0, 0, 0, 0, 0, 0, 0, 0, 0,\n",
       "       0, 0, 0, 0, 0, 0, 1, 1, 1, 1, 1, 1, 1, 1, 1, 1, 1, 1, 1, 1, 1, 1,\n",
       "       1, 1, 1, 1, 1, 1, 1, 1, 1, 1, 1, 1, 1, 1, 1, 1, 1, 1, 1, 1, 1, 1,\n",
       "       1, 1, 1, 1, 1, 1, 1, 1, 1, 1, 1, 1, 2, 2, 2, 2, 2, 2, 2, 2, 2, 2,\n",
       "       2, 2, 2, 2, 2, 2, 2, 2, 2, 2, 2, 2, 2, 2, 2, 2, 2, 2, 2, 2, 2, 2,\n",
       "       2, 2, 2, 2, 2, 2, 2, 2, 2, 2, 2, 2, 2, 2, 2, 2, 2, 2])"
      ]
     },
     "execution_count": 210,
     "metadata": {},
     "output_type": "execute_result"
    }
   ],
   "source": [
    "y = iris.target\n",
    "y"
   ]
  },
  {
   "cell_type": "code",
   "execution_count": 211,
   "metadata": {},
   "outputs": [],
   "source": [
    "X_train, X_test, y_train, y_test = train_test_split(X,y,test_size = 0.2)"
   ]
  },
  {
   "cell_type": "code",
   "execution_count": 212,
   "metadata": {},
   "outputs": [],
   "source": [
    "m1 = LogisticRegression(alpha=0.01, num_iter = 10000)"
   ]
  },
  {
   "cell_type": "code",
   "execution_count": 213,
   "metadata": {},
   "outputs": [],
   "source": [
    "m2 = LogisticRegression(alpha = 0.1, num_iter = 100000)"
   ]
  },
  {
   "cell_type": "code",
   "execution_count": 214,
   "metadata": {},
   "outputs": [],
   "source": [
    "m1.fit(X_train, y_train)"
   ]
  },
  {
   "cell_type": "code",
   "execution_count": 215,
   "metadata": {},
   "outputs": [
    {
     "data": {
      "text/plain": [
       "array([[ 0.42811032,  0.74251443, -1.17062475],\n",
       "       [ 0.89983826,  0.62423194, -1.5240702 ],\n",
       "       [ 2.03503745, -0.0822755 , -1.95276195],\n",
       "       [-2.82926464, -0.1072688 ,  2.93653344],\n",
       "       [-1.33066112, -1.07758853,  2.40824965]])"
      ]
     },
     "execution_count": 215,
     "metadata": {},
     "output_type": "execute_result"
    }
   ],
   "source": [
    "m1.theta"
   ]
  },
  {
   "cell_type": "code",
   "execution_count": 216,
   "metadata": {},
   "outputs": [],
   "source": [
    "m2.fit(X_train, y_train)"
   ]
  },
  {
   "cell_type": "code",
   "execution_count": 217,
   "metadata": {},
   "outputs": [
    {
     "data": {
      "text/plain": [
       "array([[  1.28079274,  10.72149806, -12.0022908 ],\n",
       "       [  2.74824695,  -0.01924004,  -2.72900691],\n",
       "       [  5.22041275,   0.05679376,  -5.27720651],\n",
       "       [ -7.47971589,   0.1884063 ,   7.29130959],\n",
       "       [ -3.83469312,  -3.9727539 ,   7.80744702]])"
      ]
     },
     "execution_count": 217,
     "metadata": {},
     "output_type": "execute_result"
    }
   ],
   "source": [
    "m2.theta"
   ]
  },
  {
   "cell_type": "code",
   "execution_count": 218,
   "metadata": {},
   "outputs": [
    {
     "data": {
      "text/plain": [
       "array([2., 0., 2., 2., 0., 2., 0., 0., 2., 1., 1., 2., 2., 1., 0., 1., 2.,\n",
       "       1., 0., 0., 2., 2., 0., 1., 0., 0., 2., 1., 1., 0.])"
      ]
     },
     "execution_count": 218,
     "metadata": {},
     "output_type": "execute_result"
    }
   ],
   "source": [
    "p1 = m1.predict(X_test)\n",
    "p1"
   ]
  },
  {
   "cell_type": "code",
   "execution_count": 219,
   "metadata": {},
   "outputs": [
    {
     "data": {
      "text/plain": [
       "array([2., 0., 2., 2., 0., 2., 0., 0., 2., 1., 1., 2., 2., 1., 0., 1., 2.,\n",
       "       1., 0., 0., 2., 2., 0., 1., 0., 0., 2., 1., 1., 0.])"
      ]
     },
     "execution_count": 219,
     "metadata": {},
     "output_type": "execute_result"
    }
   ],
   "source": [
    "p2 = m2.predict(X_test)\n",
    "p2"
   ]
  },
  {
   "cell_type": "code",
   "execution_count": 220,
   "metadata": {},
   "outputs": [
    {
     "data": {
      "text/plain": [
       "array([2, 0, 2, 2, 0, 2, 0, 0, 2, 1, 1, 2, 2, 1, 0, 1, 2, 1, 0, 0, 2, 2,\n",
       "       0, 1, 0, 0, 2, 1, 1, 0])"
      ]
     },
     "execution_count": 220,
     "metadata": {},
     "output_type": "execute_result"
    }
   ],
   "source": [
    "y_test"
   ]
  },
  {
   "cell_type": "code",
   "execution_count": 221,
   "metadata": {},
   "outputs": [
    {
     "data": {
      "text/plain": [
       "30"
      ]
     },
     "execution_count": 221,
     "metadata": {},
     "output_type": "execute_result"
    }
   ],
   "source": [
    "len(y_test)"
   ]
  },
  {
   "cell_type": "code",
   "execution_count": 222,
   "metadata": {},
   "outputs": [
    {
     "data": {
      "text/plain": [
       "30"
      ]
     },
     "execution_count": 222,
     "metadata": {},
     "output_type": "execute_result"
    }
   ],
   "source": [
    "sum(p1 == y_test)"
   ]
  },
  {
   "cell_type": "code",
   "execution_count": 223,
   "metadata": {},
   "outputs": [
    {
     "data": {
      "text/plain": [
       "30"
      ]
     },
     "execution_count": 223,
     "metadata": {},
     "output_type": "execute_result"
    }
   ],
   "source": [
    "sum(p2 == y_test)"
   ]
  }
 ],
 "metadata": {
  "kernelspec": {
   "display_name": "Python 3",
   "language": "python",
   "name": "python3"
  },
  "language_info": {
   "codemirror_mode": {
    "name": "ipython",
    "version": 3
   },
   "file_extension": ".py",
   "mimetype": "text/x-python",
   "name": "python",
   "nbconvert_exporter": "python",
   "pygments_lexer": "ipython3",
   "version": "3.7.6"
  }
 },
 "nbformat": 4,
 "nbformat_minor": 4
}
