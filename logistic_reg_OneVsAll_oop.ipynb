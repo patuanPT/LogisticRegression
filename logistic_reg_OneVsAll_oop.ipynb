{
 "cells": [
  {
   "cell_type": "markdown",
   "metadata": {},
   "source": [
    "# Logistics Regression OOP Version (Multiclass: One-vs-all)"
   ]
  },
  {
   "cell_type": "markdown",
   "metadata": {},
   "source": [
    "### Penulis: Patuan P. Tampubolon"
   ]
  },
  {
   "cell_type": "code",
   "execution_count": 1,
   "metadata": {},
   "outputs": [],
   "source": [
    "from sklearn import datasets\n",
    "from sklearn.model_selection import train_test_split"
   ]
  },
  {
   "cell_type": "code",
   "execution_count": 2,
   "metadata": {},
   "outputs": [],
   "source": [
    "import numpy as np\n",
    "\n",
    "class LogisticRegression:\n",
    "    \n",
    "    def __init__(self, alpha=0.01, num_iter = 1000):\n",
    "        self.alpha = alpha\n",
    "        self.num_iter = num_iter\n",
    "        \n",
    "    # method utama\n",
    "    def fit(self,x,y):\n",
    "        x = self.__addintercept(x) # 4.2 menyesuaikan data pada model\n",
    "        n, y = self.__relabel_data(y) # 4.2 menyesuaikan data pada model\n",
    "        self.theta_dict = {} # dictionary, untuk menyimpan theta masing-masing kelas\n",
    "        for n_class in range(n):\n",
    "            self.theta = np.zeros(x.shape[1]) # 4.3 menginisialisasi theta\n",
    "            for i in range(self.num_iter): # gradient descent \n",
    "                z = np.dot(x, self.theta)  # 4.4 menghitung nilai z\n",
    "                h = self.__sigmoid(z)      # 4.5 menghitung h\n",
    "                gradient = np.dot(x.T, (h - y[:,n_class])) / y[:,n_class].size # 4.6 menghitung gradient\n",
    "                self.theta = self.theta - self.alpha * gradient # 4.7 mengupdate theta\n",
    "                loss = cost(h, y[:,n_class]).mean() # 4.8 menghitung cost\n",
    "                print('loss: {}'.format(loss))\n",
    "            self.theta_dict[n_class] = self.theta\n",
    "                \n",
    "    def predict(self, Xt):\n",
    "        Xt = self.__addintercept(Xt) # diberi intercept 4.9\n",
    "        n = len(self.theta_dict) # banyak kelas 4.9\n",
    "        pred = np.zeros(len(Xt)*n).reshape(len(Xt),n) # pred_all yang diinisialisasi nilainya 0\n",
    "        for i in range(n):\n",
    "            z = np.dot(Xt, self.theta_dict[i]) #4.9\n",
    "            h = self.__sigmoid(z) # 4.9\n",
    "            pred[:,i] = h # 4.9 prediksi berupa peluang\n",
    "        pred_max = np.zeros(len(pred)) # mencari peluang yang paling minimum, diinisialisasi dengan 0\n",
    "        for j in range(len(pred)):\n",
    "            rr = np.where(pred[j,:] == max(pred[j,:])) #4.10 mencari peluang yang maksimum\n",
    "            pred_max[j] = rr[0][0] # 4.0 menentukan kelas\n",
    "        return pred_max\n",
    "    \n",
    "    # tools\n",
    "    def __addintercept(self, x):\n",
    "        return np.concatenate((np.ones((len(x))).reshape(-1,1), x),axis = 1)\n",
    "    \n",
    "    def __relabel_data(self, y):\n",
    "        label = list(set(y))\n",
    "        relabeled_data = np.zeros(len(y)*len(label)).reshape(len(y),len(label))\n",
    "        for i in range(len(label)):\n",
    "            relabeled_data[y==label[i],i] = 1\n",
    "        return (len(label),relabeled_data)\n",
    "    \n",
    "    def __sigmoid(self, z):\n",
    "        return 1/(1+np.exp(-z))\n",
    "    \n",
    "    def __cost(self, h, y):\n",
    "        return (-y * np.log(h) - (1 - y) * np.log(1 - h)) / y.size"
   ]
  },
  {
   "cell_type": "markdown",
   "metadata": {},
   "source": [
    "### Load data"
   ]
  },
  {
   "cell_type": "code",
   "execution_count": 5,
   "metadata": {},
   "outputs": [],
   "source": [
    "iris = datasets.load_iris()"
   ]
  },
  {
   "cell_type": "code",
   "execution_count": 6,
   "metadata": {},
   "outputs": [
    {
     "data": {
      "text/plain": [
       "array([[4.9, 3. , 1.4, 0.2],\n",
       "       [4.7, 3.2, 1.3, 0.2],\n",
       "       [4.6, 3.1, 1.5, 0.2],\n",
       "       [5. , 3.6, 1.4, 0.2],\n",
       "       [5.4, 3.9, 1.7, 0.4],\n",
       "       [4.6, 3.4, 1.4, 0.3],\n",
       "       [5. , 3.4, 1.5, 0.2],\n",
       "       [4.4, 2.9, 1.4, 0.2],\n",
       "       [4.9, 3.1, 1.5, 0.1]])"
      ]
     },
     "execution_count": 6,
     "metadata": {},
     "output_type": "execute_result"
    }
   ],
   "source": [
    "X = iris.data\n",
    "X[1:10]"
   ]
  },
  {
   "cell_type": "code",
   "execution_count": 7,
   "metadata": {},
   "outputs": [
    {
     "data": {
      "text/plain": [
       "array([0, 0, 0, 0, 0, 0, 0, 0, 0, 0, 0, 0, 0, 0, 0, 0, 0, 0, 0, 0, 0, 0,\n",
       "       0, 0, 0, 0, 0, 0, 0, 0, 0, 0, 0, 0, 0, 0, 0, 0, 0, 0, 0, 0, 0, 0,\n",
       "       0, 0, 0, 0, 0, 0, 1, 1, 1, 1, 1, 1, 1, 1, 1, 1, 1, 1, 1, 1, 1, 1,\n",
       "       1, 1, 1, 1, 1, 1, 1, 1, 1, 1, 1, 1, 1, 1, 1, 1, 1, 1, 1, 1, 1, 1,\n",
       "       1, 1, 1, 1, 1, 1, 1, 1, 1, 1, 1, 1, 2, 2, 2, 2, 2, 2, 2, 2, 2, 2,\n",
       "       2, 2, 2, 2, 2, 2, 2, 2, 2, 2, 2, 2, 2, 2, 2, 2, 2, 2, 2, 2, 2, 2,\n",
       "       2, 2, 2, 2, 2, 2, 2, 2, 2, 2, 2, 2, 2, 2, 2, 2, 2, 2])"
      ]
     },
     "execution_count": 7,
     "metadata": {},
     "output_type": "execute_result"
    }
   ],
   "source": [
    "y = iris.target\n",
    "y"
   ]
  },
  {
   "cell_type": "code",
   "execution_count": 8,
   "metadata": {},
   "outputs": [],
   "source": [
    "X_train, X_test, y_train, y_test = train_test_split(X,y,test_size = 0.2)"
   ]
  },
  {
   "cell_type": "code",
   "execution_count": 11,
   "metadata": {},
   "outputs": [],
   "source": [
    "m1 = LogisticRegression(alpha=0.01, num_iter = 10000)"
   ]
  },
  {
   "cell_type": "code",
   "execution_count": 12,
   "metadata": {},
   "outputs": [],
   "source": [
    "m2 = LogisticRegression(alpha = 0.1, num_iter = 100000)"
   ]
  },
  {
   "cell_type": "code",
   "execution_count": 13,
   "metadata": {},
   "outputs": [],
   "source": [
    "m1.fit(X_train, y_train)"
   ]
  },
  {
   "cell_type": "code",
   "execution_count": 14,
   "metadata": {},
   "outputs": [
    {
     "data": {
      "text/plain": [
       "{0: array([ 0.33257038,  0.52360747,  1.82630697, -2.83353293, -1.28838617]),\n",
       " 1: array([ 0.77940509,  0.55020007, -1.64977672,  0.45059787, -1.32612439]),\n",
       " 2: array([-1.15027908, -2.06321111, -1.92491251,  3.06132525,  2.78996077])}"
      ]
     },
     "execution_count": 14,
     "metadata": {},
     "output_type": "execute_result"
    }
   ],
   "source": [
    "m1.theta_dict"
   ]
  },
  {
   "cell_type": "code",
   "execution_count": 16,
   "metadata": {},
   "outputs": [
    {
     "data": {
      "text/plain": [
       "array([ 0.33257038,  0.52360747,  1.82630697, -2.83353293, -1.28838617])"
      ]
     },
     "execution_count": 16,
     "metadata": {},
     "output_type": "execute_result"
    }
   ],
   "source": [
    "m1.theta_dict[0] # theta untuk prediksi kelas 0"
   ]
  },
  {
   "cell_type": "code",
   "execution_count": 17,
   "metadata": {},
   "outputs": [
    {
     "data": {
      "text/plain": [
       "array([ 0.77940509,  0.55020007, -1.64977672,  0.45059787, -1.32612439])"
      ]
     },
     "execution_count": 17,
     "metadata": {},
     "output_type": "execute_result"
    }
   ],
   "source": [
    "m1.theta_dict[1] # theta untuk prediksi kelas 1"
   ]
  },
  {
   "cell_type": "code",
   "execution_count": 18,
   "metadata": {},
   "outputs": [
    {
     "data": {
      "text/plain": [
       "array([-1.15027908, -2.06321111, -1.92491251,  3.06132525,  2.78996077])"
      ]
     },
     "execution_count": 18,
     "metadata": {},
     "output_type": "execute_result"
    }
   ],
   "source": [
    "m1.theta_dict[2] # theta untuk prediksi kelas 2"
   ]
  },
  {
   "cell_type": "code",
   "execution_count": 19,
   "metadata": {},
   "outputs": [],
   "source": [
    "m2.fit(X_train, y_train)"
   ]
  },
  {
   "cell_type": "code",
   "execution_count": 20,
   "metadata": {},
   "outputs": [
    {
     "data": {
      "text/plain": [
       "{0: array([ 0.69699367,  1.129944  ,  3.92085784, -6.16716271, -2.94257759]),\n",
       " 1: array([ 6.41678993, -0.27163532, -2.39835765,  1.16548719, -2.44073534]),\n",
       " 2: array([-15.750317  ,  -3.43199495,  -5.08605626,   6.78434117,\n",
       "         10.92076498])}"
      ]
     },
     "execution_count": 20,
     "metadata": {},
     "output_type": "execute_result"
    }
   ],
   "source": [
    "m2.theta_dict"
   ]
  },
  {
   "cell_type": "code",
   "execution_count": 21,
   "metadata": {},
   "outputs": [
    {
     "data": {
      "text/plain": [
       "array([1., 0., 2., 1., 1., 0., 0., 1., 2., 2., 1., 1., 0., 2., 0., 2., 0.,\n",
       "       1., 2., 0., 1., 0., 0., 1., 2., 1., 0., 1., 2., 0.])"
      ]
     },
     "execution_count": 21,
     "metadata": {},
     "output_type": "execute_result"
    }
   ],
   "source": [
    "p1 = m1.predict(X_test)\n",
    "p1"
   ]
  },
  {
   "cell_type": "code",
   "execution_count": 22,
   "metadata": {},
   "outputs": [
    {
     "data": {
      "text/plain": [
       "array([1., 0., 2., 1., 1., 0., 0., 1., 2., 2., 1., 1., 0., 2., 0., 2., 0.,\n",
       "       1., 2., 0., 1., 0., 0., 1., 2., 1., 0., 1., 2., 0.])"
      ]
     },
     "execution_count": 22,
     "metadata": {},
     "output_type": "execute_result"
    }
   ],
   "source": [
    "p2 = m2.predict(X_test)\n",
    "p2"
   ]
  },
  {
   "cell_type": "code",
   "execution_count": 23,
   "metadata": {},
   "outputs": [
    {
     "data": {
      "text/plain": [
       "array([1, 0, 2, 1, 1, 0, 0, 1, 2, 2, 1, 1, 0, 2, 0, 2, 0, 1, 2, 0, 1, 0,\n",
       "       0, 1, 2, 1, 0, 1, 2, 0])"
      ]
     },
     "execution_count": 23,
     "metadata": {},
     "output_type": "execute_result"
    }
   ],
   "source": [
    "y_test"
   ]
  },
  {
   "cell_type": "code",
   "execution_count": 24,
   "metadata": {},
   "outputs": [
    {
     "data": {
      "text/plain": [
       "30"
      ]
     },
     "execution_count": 24,
     "metadata": {},
     "output_type": "execute_result"
    }
   ],
   "source": [
    "len(y_test)"
   ]
  },
  {
   "cell_type": "code",
   "execution_count": 25,
   "metadata": {},
   "outputs": [
    {
     "data": {
      "text/plain": [
       "30"
      ]
     },
     "execution_count": 25,
     "metadata": {},
     "output_type": "execute_result"
    }
   ],
   "source": [
    "sum(p1 == y_test)"
   ]
  },
  {
   "cell_type": "code",
   "execution_count": 26,
   "metadata": {},
   "outputs": [
    {
     "data": {
      "text/plain": [
       "30"
      ]
     },
     "execution_count": 26,
     "metadata": {},
     "output_type": "execute_result"
    }
   ],
   "source": [
    "sum(p2 == y_test)"
   ]
  }
 ],
 "metadata": {
  "kernelspec": {
   "display_name": "Python 3",
   "language": "python",
   "name": "python3"
  },
  "language_info": {
   "codemirror_mode": {
    "name": "ipython",
    "version": 3
   },
   "file_extension": ".py",
   "mimetype": "text/x-python",
   "name": "python",
   "nbconvert_exporter": "python",
   "pygments_lexer": "ipython3",
   "version": "3.7.6"
  }
 },
 "nbformat": 4,
 "nbformat_minor": 4
}
