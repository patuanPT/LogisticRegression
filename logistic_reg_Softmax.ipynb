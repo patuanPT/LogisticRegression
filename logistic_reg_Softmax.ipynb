{
 "cells": [
  {
   "cell_type": "markdown",
   "metadata": {},
   "source": [
    "# Logistics Regression Explaination version (Multiclass: softmax)"
   ]
  },
  {
   "cell_type": "markdown",
   "metadata": {},
   "source": [
    "### Penulis: Patuan P. Tampubolon"
   ]
  },
  {
   "cell_type": "markdown",
   "metadata": {},
   "source": [
    "Package yang perlu kita gunakan."
   ]
  },
  {
   "cell_type": "code",
   "execution_count": 1,
   "metadata": {},
   "outputs": [],
   "source": [
    "%matplotlib inline\n",
    "import matplotlib as mpl\n",
    "import matplotlib.pyplot as plt\n",
    "import numpy as np\n",
    "from sklearn import datasets\n",
    "from sklearn.model_selection import train_test_split"
   ]
  },
  {
   "cell_type": "markdown",
   "metadata": {},
   "source": [
    "# 1. Pendahuluan"
   ]
  },
  {
   "cell_type": "markdown",
   "metadata": {},
   "source": [
    "Logistic regression merupakan algoritma klasifikasi. Ini berarti dependent variabelnya (targetnya) berupa nilai diskrit. Ada tiga jenis klasifikasi yang dapat diselesaikan, yaitu: \n",
    "- binary: contoh targetnya (0 dan 1), (kucing dan anjing), (ya dan tidak), dan lain-lain\n",
    "- multy: contoh targetnya (0,1 dan 2), (cerah, hujan, dan mendung), dan lain-lain\n",
    "- ordinal: contoh targetnya (mudah, sedang, dan sulit), (tidak setuju, setuju dan sangat setuju), (tidak normal, normal, luar biasa), dan lain-lain.\n",
    "\n",
    "Pada pembelajaran ini akan dipaparkan implementasi untuk permasalahan multiclassification dengan pendekatan one-vs-rest.\n",
    "\n",
    "Dataset yang digunakan sebagai contoh adalah Iris dataset."
   ]
  },
  {
   "cell_type": "markdown",
   "metadata": {},
   "source": [
    "# 2. Dataset"
   ]
  },
  {
   "cell_type": "code",
   "execution_count": 2,
   "metadata": {},
   "outputs": [],
   "source": [
    "iris = datasets.load_iris()"
   ]
  },
  {
   "cell_type": "markdown",
   "metadata": {},
   "source": [
    "Dataset iris merupakan dataset yang mengelompokkan spesies bunga iris menjadi tiga kelas. Yaitu:"
   ]
  },
  {
   "cell_type": "code",
   "execution_count": 3,
   "metadata": {},
   "outputs": [
    {
     "data": {
      "text/plain": [
       "array(['setosa', 'versicolor', 'virginica'], dtype='<U10')"
      ]
     },
     "execution_count": 3,
     "metadata": {},
     "output_type": "execute_result"
    }
   ],
   "source": [
    "iris.target_names"
   ]
  },
  {
   "cell_type": "markdown",
   "metadata": {},
   "source": [
    "Untuk mengelompokkan bunga tersebut, ada 4 ciri2 yang digunakan, yaitu:"
   ]
  },
  {
   "cell_type": "code",
   "execution_count": 4,
   "metadata": {},
   "outputs": [
    {
     "data": {
      "text/plain": [
       "['sepal length (cm)',\n",
       " 'sepal width (cm)',\n",
       " 'petal length (cm)',\n",
       " 'petal width (cm)']"
      ]
     },
     "execution_count": 4,
     "metadata": {},
     "output_type": "execute_result"
    }
   ],
   "source": [
    "iris.feature_names"
   ]
  },
  {
   "cell_type": "markdown",
   "metadata": {},
   "source": [
    "Pada machine learning, fitur-fiturnya akan dijadikan predictor (X) , dan kelasnya sebagai target (y). Implementasinya pada python adalah sebagai berikut ini."
   ]
  },
  {
   "cell_type": "code",
   "execution_count": 5,
   "metadata": {},
   "outputs": [
    {
     "data": {
      "text/plain": [
       "array([[5.1, 3.5, 1.4, 0.2],\n",
       "       [4.9, 3. , 1.4, 0.2],\n",
       "       [4.7, 3.2, 1.3, 0.2],\n",
       "       [4.6, 3.1, 1.5, 0.2],\n",
       "       [5. , 3.6, 1.4, 0.2],\n",
       "       [5.4, 3.9, 1.7, 0.4],\n",
       "       [4.6, 3.4, 1.4, 0.3],\n",
       "       [5. , 3.4, 1.5, 0.2],\n",
       "       [4.4, 2.9, 1.4, 0.2],\n",
       "       [4.9, 3.1, 1.5, 0.1],\n",
       "       [5.4, 3.7, 1.5, 0.2],\n",
       "       [4.8, 3.4, 1.6, 0.2],\n",
       "       [4.8, 3. , 1.4, 0.1],\n",
       "       [4.3, 3. , 1.1, 0.1],\n",
       "       [5.8, 4. , 1.2, 0.2],\n",
       "       [5.7, 4.4, 1.5, 0.4],\n",
       "       [5.4, 3.9, 1.3, 0.4],\n",
       "       [5.1, 3.5, 1.4, 0.3],\n",
       "       [5.7, 3.8, 1.7, 0.3],\n",
       "       [5.1, 3.8, 1.5, 0.3],\n",
       "       [5.4, 3.4, 1.7, 0.2],\n",
       "       [5.1, 3.7, 1.5, 0.4],\n",
       "       [4.6, 3.6, 1. , 0.2],\n",
       "       [5.1, 3.3, 1.7, 0.5],\n",
       "       [4.8, 3.4, 1.9, 0.2],\n",
       "       [5. , 3. , 1.6, 0.2],\n",
       "       [5. , 3.4, 1.6, 0.4],\n",
       "       [5.2, 3.5, 1.5, 0.2],\n",
       "       [5.2, 3.4, 1.4, 0.2],\n",
       "       [4.7, 3.2, 1.6, 0.2],\n",
       "       [4.8, 3.1, 1.6, 0.2],\n",
       "       [5.4, 3.4, 1.5, 0.4],\n",
       "       [5.2, 4.1, 1.5, 0.1],\n",
       "       [5.5, 4.2, 1.4, 0.2],\n",
       "       [4.9, 3.1, 1.5, 0.2],\n",
       "       [5. , 3.2, 1.2, 0.2],\n",
       "       [5.5, 3.5, 1.3, 0.2],\n",
       "       [4.9, 3.6, 1.4, 0.1],\n",
       "       [4.4, 3. , 1.3, 0.2],\n",
       "       [5.1, 3.4, 1.5, 0.2],\n",
       "       [5. , 3.5, 1.3, 0.3],\n",
       "       [4.5, 2.3, 1.3, 0.3],\n",
       "       [4.4, 3.2, 1.3, 0.2],\n",
       "       [5. , 3.5, 1.6, 0.6],\n",
       "       [5.1, 3.8, 1.9, 0.4],\n",
       "       [4.8, 3. , 1.4, 0.3],\n",
       "       [5.1, 3.8, 1.6, 0.2],\n",
       "       [4.6, 3.2, 1.4, 0.2],\n",
       "       [5.3, 3.7, 1.5, 0.2],\n",
       "       [5. , 3.3, 1.4, 0.2],\n",
       "       [7. , 3.2, 4.7, 1.4],\n",
       "       [6.4, 3.2, 4.5, 1.5],\n",
       "       [6.9, 3.1, 4.9, 1.5],\n",
       "       [5.5, 2.3, 4. , 1.3],\n",
       "       [6.5, 2.8, 4.6, 1.5],\n",
       "       [5.7, 2.8, 4.5, 1.3],\n",
       "       [6.3, 3.3, 4.7, 1.6],\n",
       "       [4.9, 2.4, 3.3, 1. ],\n",
       "       [6.6, 2.9, 4.6, 1.3],\n",
       "       [5.2, 2.7, 3.9, 1.4],\n",
       "       [5. , 2. , 3.5, 1. ],\n",
       "       [5.9, 3. , 4.2, 1.5],\n",
       "       [6. , 2.2, 4. , 1. ],\n",
       "       [6.1, 2.9, 4.7, 1.4],\n",
       "       [5.6, 2.9, 3.6, 1.3],\n",
       "       [6.7, 3.1, 4.4, 1.4],\n",
       "       [5.6, 3. , 4.5, 1.5],\n",
       "       [5.8, 2.7, 4.1, 1. ],\n",
       "       [6.2, 2.2, 4.5, 1.5],\n",
       "       [5.6, 2.5, 3.9, 1.1],\n",
       "       [5.9, 3.2, 4.8, 1.8],\n",
       "       [6.1, 2.8, 4. , 1.3],\n",
       "       [6.3, 2.5, 4.9, 1.5],\n",
       "       [6.1, 2.8, 4.7, 1.2],\n",
       "       [6.4, 2.9, 4.3, 1.3],\n",
       "       [6.6, 3. , 4.4, 1.4],\n",
       "       [6.8, 2.8, 4.8, 1.4],\n",
       "       [6.7, 3. , 5. , 1.7],\n",
       "       [6. , 2.9, 4.5, 1.5],\n",
       "       [5.7, 2.6, 3.5, 1. ],\n",
       "       [5.5, 2.4, 3.8, 1.1],\n",
       "       [5.5, 2.4, 3.7, 1. ],\n",
       "       [5.8, 2.7, 3.9, 1.2],\n",
       "       [6. , 2.7, 5.1, 1.6],\n",
       "       [5.4, 3. , 4.5, 1.5],\n",
       "       [6. , 3.4, 4.5, 1.6],\n",
       "       [6.7, 3.1, 4.7, 1.5],\n",
       "       [6.3, 2.3, 4.4, 1.3],\n",
       "       [5.6, 3. , 4.1, 1.3],\n",
       "       [5.5, 2.5, 4. , 1.3],\n",
       "       [5.5, 2.6, 4.4, 1.2],\n",
       "       [6.1, 3. , 4.6, 1.4],\n",
       "       [5.8, 2.6, 4. , 1.2],\n",
       "       [5. , 2.3, 3.3, 1. ],\n",
       "       [5.6, 2.7, 4.2, 1.3],\n",
       "       [5.7, 3. , 4.2, 1.2],\n",
       "       [5.7, 2.9, 4.2, 1.3],\n",
       "       [6.2, 2.9, 4.3, 1.3],\n",
       "       [5.1, 2.5, 3. , 1.1],\n",
       "       [5.7, 2.8, 4.1, 1.3],\n",
       "       [6.3, 3.3, 6. , 2.5],\n",
       "       [5.8, 2.7, 5.1, 1.9],\n",
       "       [7.1, 3. , 5.9, 2.1],\n",
       "       [6.3, 2.9, 5.6, 1.8],\n",
       "       [6.5, 3. , 5.8, 2.2],\n",
       "       [7.6, 3. , 6.6, 2.1],\n",
       "       [4.9, 2.5, 4.5, 1.7],\n",
       "       [7.3, 2.9, 6.3, 1.8],\n",
       "       [6.7, 2.5, 5.8, 1.8],\n",
       "       [7.2, 3.6, 6.1, 2.5],\n",
       "       [6.5, 3.2, 5.1, 2. ],\n",
       "       [6.4, 2.7, 5.3, 1.9],\n",
       "       [6.8, 3. , 5.5, 2.1],\n",
       "       [5.7, 2.5, 5. , 2. ],\n",
       "       [5.8, 2.8, 5.1, 2.4],\n",
       "       [6.4, 3.2, 5.3, 2.3],\n",
       "       [6.5, 3. , 5.5, 1.8],\n",
       "       [7.7, 3.8, 6.7, 2.2],\n",
       "       [7.7, 2.6, 6.9, 2.3],\n",
       "       [6. , 2.2, 5. , 1.5],\n",
       "       [6.9, 3.2, 5.7, 2.3],\n",
       "       [5.6, 2.8, 4.9, 2. ],\n",
       "       [7.7, 2.8, 6.7, 2. ],\n",
       "       [6.3, 2.7, 4.9, 1.8],\n",
       "       [6.7, 3.3, 5.7, 2.1],\n",
       "       [7.2, 3.2, 6. , 1.8],\n",
       "       [6.2, 2.8, 4.8, 1.8],\n",
       "       [6.1, 3. , 4.9, 1.8],\n",
       "       [6.4, 2.8, 5.6, 2.1],\n",
       "       [7.2, 3. , 5.8, 1.6],\n",
       "       [7.4, 2.8, 6.1, 1.9],\n",
       "       [7.9, 3.8, 6.4, 2. ],\n",
       "       [6.4, 2.8, 5.6, 2.2],\n",
       "       [6.3, 2.8, 5.1, 1.5],\n",
       "       [6.1, 2.6, 5.6, 1.4],\n",
       "       [7.7, 3. , 6.1, 2.3],\n",
       "       [6.3, 3.4, 5.6, 2.4],\n",
       "       [6.4, 3.1, 5.5, 1.8],\n",
       "       [6. , 3. , 4.8, 1.8],\n",
       "       [6.9, 3.1, 5.4, 2.1],\n",
       "       [6.7, 3.1, 5.6, 2.4],\n",
       "       [6.9, 3.1, 5.1, 2.3],\n",
       "       [5.8, 2.7, 5.1, 1.9],\n",
       "       [6.8, 3.2, 5.9, 2.3],\n",
       "       [6.7, 3.3, 5.7, 2.5],\n",
       "       [6.7, 3. , 5.2, 2.3],\n",
       "       [6.3, 2.5, 5. , 1.9],\n",
       "       [6.5, 3. , 5.2, 2. ],\n",
       "       [6.2, 3.4, 5.4, 2.3],\n",
       "       [5.9, 3. , 5.1, 1.8]])"
      ]
     },
     "execution_count": 5,
     "metadata": {},
     "output_type": "execute_result"
    }
   ],
   "source": [
    "X = iris.data\n",
    "X"
   ]
  },
  {
   "cell_type": "code",
   "execution_count": 6,
   "metadata": {},
   "outputs": [
    {
     "data": {
      "text/plain": [
       "(150, 4)"
      ]
     },
     "execution_count": 6,
     "metadata": {},
     "output_type": "execute_result"
    }
   ],
   "source": [
    "X.shape"
   ]
  },
  {
   "cell_type": "code",
   "execution_count": 7,
   "metadata": {},
   "outputs": [
    {
     "data": {
      "text/plain": [
       "array([0, 0, 0, 0, 0, 0, 0, 0, 0, 0, 0, 0, 0, 0, 0, 0, 0, 0, 0, 0, 0, 0,\n",
       "       0, 0, 0, 0, 0, 0, 0, 0, 0, 0, 0, 0, 0, 0, 0, 0, 0, 0, 0, 0, 0, 0,\n",
       "       0, 0, 0, 0, 0, 0, 1, 1, 1, 1, 1, 1, 1, 1, 1, 1, 1, 1, 1, 1, 1, 1,\n",
       "       1, 1, 1, 1, 1, 1, 1, 1, 1, 1, 1, 1, 1, 1, 1, 1, 1, 1, 1, 1, 1, 1,\n",
       "       1, 1, 1, 1, 1, 1, 1, 1, 1, 1, 1, 1, 2, 2, 2, 2, 2, 2, 2, 2, 2, 2,\n",
       "       2, 2, 2, 2, 2, 2, 2, 2, 2, 2, 2, 2, 2, 2, 2, 2, 2, 2, 2, 2, 2, 2,\n",
       "       2, 2, 2, 2, 2, 2, 2, 2, 2, 2, 2, 2, 2, 2, 2, 2, 2, 2])"
      ]
     },
     "execution_count": 7,
     "metadata": {},
     "output_type": "execute_result"
    }
   ],
   "source": [
    "y = iris.target\n",
    "y"
   ]
  },
  {
   "cell_type": "markdown",
   "metadata": {},
   "source": [
    "Sekarang tentukan X dan y untuk training dan testing."
   ]
  },
  {
   "cell_type": "markdown",
   "metadata": {},
   "source": [
    "# 3. Tools yang diperlukan"
   ]
  },
  {
   "cell_type": "markdown",
   "metadata": {},
   "source": [
    "## 3.1. Fungsi aktifasi Softmax"
   ]
  },
  {
   "cell_type": "markdown",
   "metadata": {},
   "source": [
    "Fungsi softmax merupakan fungsi general dari fungsi sigmoid. Fungsi softmax dirumuskan sebagai berikut (Eq. 1)."
   ]
  },
  {
   "cell_type": "markdown",
   "metadata": {},
   "source": [
    "## $f(x) = \\frac{e^{(\\theta^{(k)T}x^{i})}}{\\sum_{j=1}^{K}e^{(\\theta{(j)T}x^{(i)})}}$ ----> (1)"
   ]
  },
  {
   "cell_type": "markdown",
   "metadata": {},
   "source": [
    "Jika diimplemantasikan kedalam bahasa python maka fungsi tersebut akan menjadi seperti berikut ini."
   ]
  },
  {
   "cell_type": "code",
   "execution_count": 8,
   "metadata": {},
   "outputs": [],
   "source": [
    "def softmax(z):\n",
    "    z -= np.max(z)\n",
    "    sm = (np.exp(z).T / np.sum(np.exp(z),axis=1)).T\n",
    "    return sm"
   ]
  },
  {
   "cell_type": "code",
   "execution_count": 9,
   "metadata": {},
   "outputs": [],
   "source": [
    "nilai = np.array([[-2,-1,0,1,2],[-1,-1,1,1,2],[0,1,0,1,2]])\n",
    "peluang = softmax(nilai)"
   ]
  },
  {
   "cell_type": "code",
   "execution_count": 10,
   "metadata": {},
   "outputs": [
    {
     "data": {
      "text/plain": [
       "array([[0.01165623, 0.03168492, 0.08612854, 0.23412166, 0.63640865],\n",
       "       [0.02712699, 0.02712699, 0.20044288, 0.20044288, 0.54486025],\n",
       "       [0.06745081, 0.1833503 , 0.06745081, 0.1833503 , 0.49839779]])"
      ]
     },
     "execution_count": 10,
     "metadata": {},
     "output_type": "execute_result"
    }
   ],
   "source": [
    "peluang"
   ]
  },
  {
   "cell_type": "code",
   "execution_count": 11,
   "metadata": {},
   "outputs": [
    {
     "data": {
      "text/plain": [
       "1.0"
      ]
     },
     "execution_count": 11,
     "metadata": {},
     "output_type": "execute_result"
    }
   ],
   "source": [
    "peluang[0,:].sum()"
   ]
  },
  {
   "cell_type": "markdown",
   "metadata": {},
   "source": [
    "## 3.2. Relabel Target"
   ]
  },
  {
   "cell_type": "markdown",
   "metadata": {},
   "source": [
    "Karena kita akan membuat logistic regression untuk multiclass kita perlu melabel kembali label yang sudah ada menjadi sebanyak kelasnya."
   ]
  },
  {
   "cell_type": "code",
   "execution_count": 12,
   "metadata": {},
   "outputs": [
    {
     "data": {
      "text/plain": [
       "array([0, 0, 0, 0, 0, 0, 0, 0, 0, 0, 0, 0, 0, 0, 0, 0, 0, 0, 0, 0, 0, 0,\n",
       "       0, 0, 0, 0, 0, 0, 0, 0, 0, 0, 0, 0, 0, 0, 0, 0, 0, 0, 0, 0, 0, 0,\n",
       "       0, 0, 0, 0, 0, 0, 1, 1, 1, 1, 1, 1, 1, 1, 1, 1, 1, 1, 1, 1, 1, 1,\n",
       "       1, 1, 1, 1, 1, 1, 1, 1, 1, 1, 1, 1, 1, 1, 1, 1, 1, 1, 1, 1, 1, 1,\n",
       "       1, 1, 1, 1, 1, 1, 1, 1, 1, 1, 1, 1, 2, 2, 2, 2, 2, 2, 2, 2, 2, 2,\n",
       "       2, 2, 2, 2, 2, 2, 2, 2, 2, 2, 2, 2, 2, 2, 2, 2, 2, 2, 2, 2, 2, 2,\n",
       "       2, 2, 2, 2, 2, 2, 2, 2, 2, 2, 2, 2, 2, 2, 2, 2, 2, 2])"
      ]
     },
     "execution_count": 12,
     "metadata": {},
     "output_type": "execute_result"
    }
   ],
   "source": [
    "y"
   ]
  },
  {
   "cell_type": "code",
   "execution_count": 13,
   "metadata": {},
   "outputs": [
    {
     "data": {
      "text/plain": [
       "[0, 1, 2]"
      ]
     },
     "execution_count": 13,
     "metadata": {},
     "output_type": "execute_result"
    }
   ],
   "source": [
    "label = list(set(y))\n",
    "label"
   ]
  },
  {
   "cell_type": "code",
   "execution_count": 14,
   "metadata": {},
   "outputs": [
    {
     "data": {
      "text/plain": [
       "array([[0., 0., 0.],\n",
       "       [0., 0., 0.],\n",
       "       [0., 0., 0.],\n",
       "       [0., 0., 0.],\n",
       "       [0., 0., 0.],\n",
       "       [0., 0., 0.],\n",
       "       [0., 0., 0.],\n",
       "       [0., 0., 0.],\n",
       "       [0., 0., 0.],\n",
       "       [0., 0., 0.],\n",
       "       [0., 0., 0.],\n",
       "       [0., 0., 0.],\n",
       "       [0., 0., 0.],\n",
       "       [0., 0., 0.],\n",
       "       [0., 0., 0.],\n",
       "       [0., 0., 0.],\n",
       "       [0., 0., 0.],\n",
       "       [0., 0., 0.],\n",
       "       [0., 0., 0.],\n",
       "       [0., 0., 0.]])"
      ]
     },
     "execution_count": 14,
     "metadata": {},
     "output_type": "execute_result"
    }
   ],
   "source": [
    "relabeled_data = np.zeros(len(y)*len(label)).reshape(len(y),len(label))\n",
    "relabeled_data[0:20,:]"
   ]
  },
  {
   "cell_type": "code",
   "execution_count": 15,
   "metadata": {},
   "outputs": [],
   "source": [
    "for i in range(len(label)):\n",
    "    relabeled_data[y==label[i],i] = 1"
   ]
  },
  {
   "cell_type": "code",
   "execution_count": 16,
   "metadata": {},
   "outputs": [
    {
     "data": {
      "text/plain": [
       "array([[1., 0., 0.],\n",
       "       [1., 0., 0.],\n",
       "       [1., 0., 0.],\n",
       "       [1., 0., 0.],\n",
       "       [1., 0., 0.],\n",
       "       [1., 0., 0.],\n",
       "       [1., 0., 0.],\n",
       "       [1., 0., 0.],\n",
       "       [1., 0., 0.],\n",
       "       [1., 0., 0.],\n",
       "       [1., 0., 0.],\n",
       "       [1., 0., 0.],\n",
       "       [1., 0., 0.],\n",
       "       [1., 0., 0.],\n",
       "       [1., 0., 0.],\n",
       "       [1., 0., 0.],\n",
       "       [1., 0., 0.],\n",
       "       [1., 0., 0.],\n",
       "       [1., 0., 0.],\n",
       "       [1., 0., 0.]])"
      ]
     },
     "execution_count": 16,
     "metadata": {},
     "output_type": "execute_result"
    }
   ],
   "source": [
    "relabeled_data[0:20,:]"
   ]
  },
  {
   "cell_type": "code",
   "execution_count": 17,
   "metadata": {},
   "outputs": [],
   "source": [
    "def relabel_data(y):\n",
    "    label = list(set(y))\n",
    "    relabeled_data = np.zeros(len(y)*len(label)).reshape(len(y),len(label))\n",
    "    for i in range(len(label)):\n",
    "        relabeled_data[y==label[i],i] = 1\n",
    "    return relabeled_data"
   ]
  },
  {
   "cell_type": "code",
   "execution_count": 18,
   "metadata": {},
   "outputs": [
    {
     "data": {
      "text/plain": [
       "array([[1., 0., 0.],\n",
       "       [1., 0., 0.],\n",
       "       [1., 0., 0.],\n",
       "       [1., 0., 0.],\n",
       "       [1., 0., 0.],\n",
       "       [1., 0., 0.],\n",
       "       [1., 0., 0.],\n",
       "       [1., 0., 0.],\n",
       "       [1., 0., 0.],\n",
       "       [1., 0., 0.],\n",
       "       [1., 0., 0.],\n",
       "       [1., 0., 0.],\n",
       "       [1., 0., 0.],\n",
       "       [1., 0., 0.],\n",
       "       [1., 0., 0.],\n",
       "       [1., 0., 0.],\n",
       "       [1., 0., 0.],\n",
       "       [1., 0., 0.],\n",
       "       [1., 0., 0.],\n",
       "       [1., 0., 0.],\n",
       "       [1., 0., 0.],\n",
       "       [1., 0., 0.],\n",
       "       [1., 0., 0.],\n",
       "       [1., 0., 0.],\n",
       "       [1., 0., 0.],\n",
       "       [1., 0., 0.],\n",
       "       [1., 0., 0.],\n",
       "       [1., 0., 0.],\n",
       "       [1., 0., 0.],\n",
       "       [1., 0., 0.],\n",
       "       [1., 0., 0.],\n",
       "       [1., 0., 0.],\n",
       "       [1., 0., 0.],\n",
       "       [1., 0., 0.],\n",
       "       [1., 0., 0.],\n",
       "       [1., 0., 0.],\n",
       "       [1., 0., 0.],\n",
       "       [1., 0., 0.],\n",
       "       [1., 0., 0.],\n",
       "       [1., 0., 0.],\n",
       "       [1., 0., 0.],\n",
       "       [1., 0., 0.],\n",
       "       [1., 0., 0.],\n",
       "       [1., 0., 0.],\n",
       "       [1., 0., 0.],\n",
       "       [1., 0., 0.],\n",
       "       [1., 0., 0.],\n",
       "       [1., 0., 0.],\n",
       "       [1., 0., 0.],\n",
       "       [1., 0., 0.]])"
      ]
     },
     "execution_count": 18,
     "metadata": {},
     "output_type": "execute_result"
    }
   ],
   "source": [
    "rbl = relabel_data(y)\n",
    "rbl[0:50]\n",
    "#rbl[50:100]\n",
    "#rbl[100:150]"
   ]
  },
  {
   "cell_type": "markdown",
   "metadata": {},
   "source": [
    "## 3.3. Cost Function"
   ]
  },
  {
   "cell_type": "markdown",
   "metadata": {},
   "source": [
    "Untuk menentukan seberapa baik kita melakukan prediksi, kita perlu membuat sebuah cost function yang disebut dengan Cross-entropy loss. Seperti yang dirumuskan di bawah ini:"
   ]
  },
  {
   "cell_type": "markdown",
   "metadata": {},
   "source": [
    "#### $J(\\theta) = - \\sum_{i=1}^{m}[y^{(i)}\\log (h_{\\theta}(x^{(i)})) + (1-y^{(i)})\\log(1-h_{\\theta}(x^{(i)})]$ ----> (4)"
   ]
  },
  {
   "cell_type": "markdown",
   "metadata": {},
   "source": [
    "Eq. 4 dapat dihitung secara vektorisasi dengan eq. 5 dibawah ini."
   ]
  },
  {
   "cell_type": "markdown",
   "metadata": {},
   "source": [
    "#### $h = g(X\\theta)$\n",
    "#### $J(\\theta) = (-y^{T}\\log (h) - (1-y)^{T}\\log (1-h))$ -----> (5)"
   ]
  },
  {
   "cell_type": "markdown",
   "metadata": {},
   "source": [
    "Eq. 5 dapat diimplementasikan sebagai berikut."
   ]
  },
  {
   "cell_type": "code",
   "execution_count": 19,
   "metadata": {},
   "outputs": [
    {
     "data": {
      "text/plain": [
       "(150, 3)"
      ]
     },
     "execution_count": 19,
     "metadata": {},
     "output_type": "execute_result"
    }
   ],
   "source": [
    "y1 = rbl\n",
    "y1.shape"
   ]
  },
  {
   "cell_type": "code",
   "execution_count": 20,
   "metadata": {},
   "outputs": [
    {
     "data": {
      "text/plain": [
       "array([[0.91503961, 0.3009641 , 0.27990034],\n",
       "       [0.52748896, 0.52055931, 0.39603925],\n",
       "       [0.73070943, 0.72976057, 0.33586395],\n",
       "       [0.10944347, 0.34986649, 0.80489196]])"
      ]
     },
     "execution_count": 20,
     "metadata": {},
     "output_type": "execute_result"
    }
   ],
   "source": [
    "theta0 = np.random.rand(X.shape[1], len(label)) # theta diinisialisasi dengan angka 0\n",
    "theta0"
   ]
  },
  {
   "cell_type": "code",
   "execution_count": 21,
   "metadata": {},
   "outputs": [
    {
     "data": {
      "text/plain": [
       "array([[7.55779524, 4.44851256, 3.44481701],\n",
       "       [7.11104284, 4.12804009, 3.19081731],\n",
       "       [6.96046177, 4.09898307, 3.1804587 ],\n",
       "       [6.9623508 , 4.16278284, 3.18003753],\n",
       "       [7.51904018, 4.47047208, 3.4564309 ],\n",
       "       [8.28440423, 5.03592698, 3.94894038],\n",
       "       [7.05847089, 4.28096123, 3.34575211],\n",
       "       [7.48661333, 4.43933627, 3.41080944],\n",
       "       [6.60077414, 3.92550211, 3.01126322],\n",
       "       [7.22591833, 4.21808542, 3.18351844]])"
      ]
     },
     "execution_count": 21,
     "metadata": {},
     "output_type": "execute_result"
    }
   ],
   "source": [
    "z0 = np.dot(X, theta0)\n",
    "z0[0:10]"
   ]
  },
  {
   "cell_type": "code",
   "execution_count": 22,
   "metadata": {},
   "outputs": [
    {
     "data": {
      "text/plain": [
       "array([[0.94251423, 0.0420672 , 0.01541857],\n",
       "       [0.93416285, 0.04730652, 0.01853063],\n",
       "       [0.92592013, 0.05294795, 0.02113192],\n",
       "       [0.9228444 , 0.05614248, 0.02101313],\n",
       "       [0.93929271, 0.04454763, 0.01615966],\n",
       "       [0.95063442, 0.03691627, 0.01244932],\n",
       "       [0.92029825, 0.05723629, 0.02246546],\n",
       "       [0.93943763, 0.04461207, 0.0159503 ],\n",
       "       [0.91199277, 0.06282544, 0.02518179],\n",
       "       [0.93724761, 0.04629873, 0.01645365],\n",
       "       [0.95262707, 0.03531251, 0.01206042],\n",
       "       [0.93264407, 0.05007224, 0.01728369],\n",
       "       [0.93258712, 0.04902474, 0.01838814],\n",
       "       [0.9074613 , 0.06486679, 0.02767191],\n",
       "       [0.96193549, 0.02784175, 0.01022275],\n",
       "       [0.95862375, 0.03086194, 0.01051431],\n",
       "       [0.9486006 , 0.03685127, 0.01454813],\n",
       "       [0.9405071 , 0.04299908, 0.01649382],\n",
       "       [0.95989148, 0.03028859, 0.00981994],\n",
       "       [0.94177379, 0.0429635 , 0.0152627 ]])"
      ]
     },
     "execution_count": 22,
     "metadata": {},
     "output_type": "execute_result"
    }
   ],
   "source": [
    "h0 = softmax(z0)\n",
    "h0[0:20]"
   ]
  },
  {
   "cell_type": "code",
   "execution_count": 23,
   "metadata": {},
   "outputs": [
    {
     "data": {
      "text/plain": [
       "array([[-0.05920426, -3.16848695, -4.1721825 ],\n",
       "       [-0.0681045 , -3.05110725, -3.98833002],\n",
       "       [-0.0769673 , -2.938446  , -3.85697037],\n",
       "       [-0.08029464, -2.8798626 , -3.86260791],\n",
       "       [-0.06262813, -3.11119622, -4.1252374 ],\n",
       "       [-0.05062571, -3.29910296, -4.38608956],\n",
       "       [-0.08305748, -2.86056714, -3.79577626],\n",
       "       [-0.06247384, -3.1097509 , -4.13827773],\n",
       "       [-0.09212321, -2.76739525, -3.68163413],\n",
       "       [-0.06480777, -3.07264068, -4.10720767]])"
      ]
     },
     "execution_count": 23,
     "metadata": {},
     "output_type": "execute_result"
    }
   ],
   "source": [
    "np.log(h0)[0:10,:]"
   ]
  },
  {
   "cell_type": "code",
   "execution_count": 24,
   "metadata": {},
   "outputs": [
    {
     "data": {
      "text/plain": [
       "array([ 0.11772059,  0.13527103,  0.15272692,  0.15931174,  0.12449014,\n",
       "        0.10076809,  0.16471873,  0.12419053,  0.1825132 ,  0.12880308,\n",
       "        0.09661659,  0.13853577,  0.13861925,  0.19223264,  0.07731993,\n",
       "        0.08417479,  0.10496986,  0.12191837,  0.08156028,  0.1192843 ,\n",
       "        0.09583132,  0.1239849 ,  0.16471315,  0.12775658,  0.13474426,\n",
       "        0.12483831,  0.13178599,  0.10976972,  0.11130943,  0.14810255,\n",
       "        0.14009541,  0.10483437,  0.10379262,  0.09016822,  0.13334336,\n",
       "        0.12918437,  0.0935481 ,  0.12766219,  0.18373783,  0.11698637,\n",
       "        0.13080125,  0.18492677,  0.18226978,  0.14084172,  0.11880276,\n",
       "        0.14871782,  0.11416033,  0.16033339,  0.10260406,  0.12594311,\n",
       "        7.86450447,  7.08165098,  7.69922063,  6.06815317,  7.19393912,\n",
       "        6.34825359,  6.9248999 ,  5.49297061,  7.42292511,  5.67709911,\n",
       "        5.60676305,  6.46545696,  6.81006211,  6.78098196,  6.17691772,\n",
       "        7.48368782,  6.13371045,  6.59638085,  6.81172209,  6.29028006,\n",
       "        6.35114516,  6.78771997,  6.96439554,  6.88258243,  7.16640231,\n",
       "        7.36087055,  7.61759863,  7.35611963,  6.59870062,  6.43669601,\n",
       "        6.16383104,  6.21007748,  6.47790922,  6.57444315,  5.9019514 ,\n",
       "        6.56187043,  7.44821594,  7.0341594 ,  6.21399573,  6.07489493,\n",
       "        6.15496104,  6.77839899,  6.48117486,  5.60298553,  6.21055341,\n",
       "        6.38929209,  6.33368961,  6.92875477,  5.64830615,  6.32418462,\n",
       "        8.32539658,  7.82104445,  9.58118692,  8.7631312 ,  8.7178135 ,\n",
       "       10.49725565,  6.68139949, 10.27638345,  9.26957279,  9.49266134,\n",
       "        8.62811842,  8.61958201,  9.03975058,  7.53052416,  7.34977116,\n",
       "        8.30586889,  8.97275024, 10.68587745, 10.49583072,  8.32156241,\n",
       "        9.0852325 ,  7.41634794, 10.72974432,  8.41643564,  9.05584635,\n",
       "       10.0691159 ,  8.26759772,  8.22645176,  8.57533918, 10.14550553,\n",
       "       10.19875245, 10.99485604,  8.47778682,  8.81598782,  8.86529942,\n",
       "       10.20446982,  8.25773477,  8.86852661,  8.06284692,  9.13048512,\n",
       "        8.68621017,  8.79511366,  7.82104445,  9.05489772,  8.66481934,\n",
       "        8.58559755,  8.33242866,  8.64233981,  8.14649328,  8.08172354])"
      ]
     },
     "execution_count": 24,
     "metadata": {},
     "output_type": "execute_result"
    }
   ],
   "source": [
    "np.sum(-y1 * np.log(h0) - (1 - y1) * np.log(1 - h0),axis=1)"
   ]
  },
  {
   "cell_type": "code",
   "execution_count": 25,
   "metadata": {},
   "outputs": [
    {
     "data": {
      "text/plain": [
       "5.203115389858735"
      ]
     },
     "execution_count": 25,
     "metadata": {},
     "output_type": "execute_result"
    }
   ],
   "source": [
    "np.mean(np.sum(-y1 * np.log(h0) - (1 - y1) * np.log(1 - h0),axis=1))"
   ]
  },
  {
   "cell_type": "code",
   "execution_count": 26,
   "metadata": {},
   "outputs": [],
   "source": [
    "def cost(h, y):\n",
    "    return np.mean(np.sum(-y * np.log(h) - (1 - y) * np.log(1 - h),axis=1))"
   ]
  },
  {
   "cell_type": "code",
   "execution_count": 27,
   "metadata": {},
   "outputs": [
    {
     "data": {
      "text/plain": [
       "5.203115389858735"
      ]
     },
     "execution_count": 27,
     "metadata": {},
     "output_type": "execute_result"
    }
   ],
   "source": [
    "res = cost(h0,y1)\n",
    "res"
   ]
  },
  {
   "cell_type": "markdown",
   "metadata": {},
   "source": [
    "## 3.4. Gradient Descent (minimizing cost)"
   ]
  },
  {
   "cell_type": "markdown",
   "metadata": {},
   "source": [
    "Gradient descent digunakan untuk mengatur nilai theta. Adapun algoritma gradient descent dapat dilakukan dalam 3 tahap, yaitu:\n",
    "1. hitung rata-rata gradien\n",
    "2. kalikan dengan nilai learning rate (lr atau alpha)\n",
    "3. Kurangi dari bobot sebelumnya\n",
    "\n",
    "Implementasi dari gradient descent dapat dilihat dibawah ini."
   ]
  },
  {
   "cell_type": "markdown",
   "metadata": {},
   "source": [
    "Membangun theta atau bobot"
   ]
  },
  {
   "cell_type": "code",
   "execution_count": 28,
   "metadata": {},
   "outputs": [
    {
     "data": {
      "text/plain": [
       "array([[0., 0., 0.],\n",
       "       [0., 0., 0.],\n",
       "       [0., 0., 0.],\n",
       "       [0., 0., 0.]])"
      ]
     },
     "execution_count": 28,
     "metadata": {},
     "output_type": "execute_result"
    }
   ],
   "source": [
    "theta = np.zeros(X.shape[1]*len(label)).reshape(X.shape[1],len(label)) # theta diinisialisasi dengan angka 0\n",
    "theta"
   ]
  },
  {
   "cell_type": "markdown",
   "metadata": {},
   "source": [
    "Perkalian antara X dan bobotnya"
   ]
  },
  {
   "cell_type": "code",
   "execution_count": 29,
   "metadata": {},
   "outputs": [
    {
     "data": {
      "text/plain": [
       "array([[0., 0., 0.],\n",
       "       [0., 0., 0.],\n",
       "       [0., 0., 0.],\n",
       "       [0., 0., 0.],\n",
       "       [0., 0., 0.],\n",
       "       [0., 0., 0.],\n",
       "       [0., 0., 0.],\n",
       "       [0., 0., 0.],\n",
       "       [0., 0., 0.],\n",
       "       [0., 0., 0.]])"
      ]
     },
     "execution_count": 29,
     "metadata": {},
     "output_type": "execute_result"
    }
   ],
   "source": [
    "z = np.dot(X, theta)\n",
    "z[0:10,:]"
   ]
  },
  {
   "cell_type": "markdown",
   "metadata": {},
   "source": [
    "Menghitung nilai sigmoid dari z"
   ]
  },
  {
   "cell_type": "code",
   "execution_count": 30,
   "metadata": {},
   "outputs": [
    {
     "data": {
      "text/plain": [
       "array([[0.33333333, 0.33333333, 0.33333333],\n",
       "       [0.33333333, 0.33333333, 0.33333333],\n",
       "       [0.33333333, 0.33333333, 0.33333333],\n",
       "       [0.33333333, 0.33333333, 0.33333333],\n",
       "       [0.33333333, 0.33333333, 0.33333333],\n",
       "       [0.33333333, 0.33333333, 0.33333333],\n",
       "       [0.33333333, 0.33333333, 0.33333333],\n",
       "       [0.33333333, 0.33333333, 0.33333333],\n",
       "       [0.33333333, 0.33333333, 0.33333333],\n",
       "       [0.33333333, 0.33333333, 0.33333333]])"
      ]
     },
     "execution_count": 30,
     "metadata": {},
     "output_type": "execute_result"
    }
   ],
   "source": [
    "h = softmax(z)\n",
    "h[0:10,:]"
   ]
  },
  {
   "cell_type": "markdown",
   "metadata": {},
   "source": [
    "Menghitung rata-rata gradient"
   ]
  },
  {
   "cell_type": "code",
   "execution_count": 31,
   "metadata": {},
   "outputs": [
    {
     "data": {
      "text/plain": [
       "array([[ 0.09303704, -0.0102963 , -0.08274074],\n",
       "       [-0.04118519,  0.03192593,  0.00925926],\n",
       "       [ 0.25511111, -0.05577778, -0.19933333],\n",
       "       [ 0.10592593, -0.01407407, -0.09185185]])"
      ]
     },
     "execution_count": 31,
     "metadata": {},
     "output_type": "execute_result"
    }
   ],
   "source": [
    "gradient = np.dot(X.T, (h - y1)) / y1.size # rata-rata gradient\n",
    "gradient"
   ]
  },
  {
   "cell_type": "markdown",
   "metadata": {},
   "source": [
    "Menghitung bobot yang baru jika nilai learning rate (alpha) adalah 0.1"
   ]
  },
  {
   "cell_type": "code",
   "execution_count": 32,
   "metadata": {},
   "outputs": [
    {
     "data": {
      "text/plain": [
       "array([[-0.0093037 ,  0.00102963,  0.00827407],\n",
       "       [ 0.00411852, -0.00319259, -0.00092593],\n",
       "       [-0.02551111,  0.00557778,  0.01993333],\n",
       "       [-0.01059259,  0.00140741,  0.00918519]])"
      ]
     },
     "execution_count": 32,
     "metadata": {},
     "output_type": "execute_result"
    }
   ],
   "source": [
    "alpha = 0.1\n",
    "theta = theta - alpha * gradient\n",
    "theta"
   ]
  },
  {
   "cell_type": "code",
   "execution_count": 33,
   "metadata": {},
   "outputs": [],
   "source": [
    "def grad_desc(X, y, theta, alpha, num_iter):\n",
    "    theta_new = np.copy(theta)\n",
    "\n",
    "    for i in range(num_iter):\n",
    "        z = np.dot(X, theta)\n",
    "        h = softmax(z)\n",
    "        gradient = np.dot(X.T, (h - y)) / y.size\n",
    "        theta_new = theta_new - alpha * gradient\n",
    "    print('iter num: ', i, 'cost : ', cost(h, y).mean(), 'theta: ', theta_new)\n",
    "    return theta_new"
   ]
  },
  {
   "cell_type": "code",
   "execution_count": 34,
   "metadata": {},
   "outputs": [
    {
     "name": "stdout",
     "output_type": "stream",
     "text": [
      "iter num:  9 cost :  1.8559553361616046 theta:  [[-0.00409991  0.00337431  0.0007256 ]\n",
      " [ 0.09318809 -0.03877484 -0.05441325]\n",
      " [-0.20944037  0.05514697  0.1542934 ]\n",
      " [-0.09271825  0.01336312  0.07935513]]\n"
     ]
    }
   ],
   "source": [
    "gr = grad_desc(X,y1,theta,0.1,10)"
   ]
  },
  {
   "cell_type": "markdown",
   "metadata": {},
   "source": [
    "Ketika kita membuat memasukan features kita perlu memasukkan "
   ]
  },
  {
   "cell_type": "markdown",
   "metadata": {},
   "source": [
    "## 3.5 Fungsi prediksi"
   ]
  },
  {
   "cell_type": "code",
   "execution_count": 35,
   "metadata": {},
   "outputs": [],
   "source": [
    "def predict(Xt, theta):\n",
    "    z = np.dot(Xt, theta)\n",
    "    return softmax(z)"
   ]
  },
  {
   "cell_type": "code",
   "execution_count": 36,
   "metadata": {},
   "outputs": [
    {
     "data": {
      "text/plain": [
       "array([[-0.0093037 ,  0.00102963,  0.00827407],\n",
       "       [ 0.00411852, -0.00319259, -0.00092593],\n",
       "       [-0.02551111,  0.00557778,  0.01993333],\n",
       "       [-0.01059259,  0.00140741,  0.00918519]])"
      ]
     },
     "execution_count": 36,
     "metadata": {},
     "output_type": "execute_result"
    }
   ],
   "source": [
    "theta"
   ]
  },
  {
   "cell_type": "code",
   "execution_count": 37,
   "metadata": {},
   "outputs": [
    {
     "data": {
      "text/plain": [
       "array([[0.31002495, 0.33351517, 0.35645988],\n",
       "       [0.30997027, 0.33398658, 0.35604315],\n",
       "       [0.31166068, 0.33358634, 0.35475298],\n",
       "       [0.31018118, 0.33397255, 0.35584627],\n",
       "       [0.31045756, 0.33339178, 0.35615067],\n",
       "       [0.30649975, 0.33367075, 0.35982949],\n",
       "       [0.31105716, 0.33354463, 0.35539822],\n",
       "       [0.30937142, 0.33374752, 0.35688106],\n",
       "       [0.31134503, 0.33398317, 0.35467179],\n",
       "       [0.30962083, 0.33400322, 0.35637595]])"
      ]
     },
     "execution_count": 37,
     "metadata": {},
     "output_type": "execute_result"
    }
   ],
   "source": [
    "pred = predict(X,theta)\n",
    "pred[0:10,:]"
   ]
  },
  {
   "cell_type": "code",
   "execution_count": 38,
   "metadata": {},
   "outputs": [
    {
     "data": {
      "text/plain": [
       "1.0"
      ]
     },
     "execution_count": 38,
     "metadata": {},
     "output_type": "execute_result"
    }
   ],
   "source": [
    "pred[0,:].sum()"
   ]
  },
  {
   "cell_type": "markdown",
   "metadata": {},
   "source": [
    "# 4. Langkah pembuatan model langkah per langkah"
   ]
  },
  {
   "cell_type": "markdown",
   "metadata": {},
   "source": [
    "## 4.1 Split Train dan Test"
   ]
  },
  {
   "cell_type": "code",
   "execution_count": 39,
   "metadata": {},
   "outputs": [],
   "source": [
    "X_train, X_test, y_train, y_test = train_test_split(X,y,test_size = 0.2)"
   ]
  },
  {
   "cell_type": "markdown",
   "metadata": {},
   "source": [
    "## 4.2. Menyesuaikan data pada model"
   ]
  },
  {
   "cell_type": "markdown",
   "metadata": {},
   "source": [
    "Model logistic regression yang kita akan gunakan merupakan model linear seperti yang ditunjukkan pada gambar dibawah ini. Dengan Demikian kita harus menambahkan angka 1 pada X, menginisialisasi $\\theta$, dan merelabel y."
   ]
  },
  {
   "cell_type": "markdown",
   "metadata": {},
   "source": [
    "![image](linearModel.png)"
   ]
  },
  {
   "cell_type": "markdown",
   "metadata": {},
   "source": [
    "Catatan: di dalam coding menggunakan $\\theta$, gambar diatas menggunakan $\\beta$. Mereka dimaksudkan sama, yaitu bobot."
   ]
  },
  {
   "cell_type": "code",
   "execution_count": 40,
   "metadata": {},
   "outputs": [
    {
     "data": {
      "text/plain": [
       "array([[5.1, 3.5, 1.4, 0.2],\n",
       "       [4.9, 3. , 1.4, 0.2],\n",
       "       [4.7, 3.2, 1.3, 0.2],\n",
       "       [4.6, 3.1, 1.5, 0.2],\n",
       "       [5. , 3.6, 1.4, 0.2],\n",
       "       [5.4, 3.9, 1.7, 0.4],\n",
       "       [4.6, 3.4, 1.4, 0.3],\n",
       "       [5. , 3.4, 1.5, 0.2],\n",
       "       [4.4, 2.9, 1.4, 0.2],\n",
       "       [4.9, 3.1, 1.5, 0.1],\n",
       "       [5.4, 3.7, 1.5, 0.2],\n",
       "       [4.8, 3.4, 1.6, 0.2],\n",
       "       [4.8, 3. , 1.4, 0.1],\n",
       "       [4.3, 3. , 1.1, 0.1],\n",
       "       [5.8, 4. , 1.2, 0.2],\n",
       "       [5.7, 4.4, 1.5, 0.4],\n",
       "       [5.4, 3.9, 1.3, 0.4],\n",
       "       [5.1, 3.5, 1.4, 0.3],\n",
       "       [5.7, 3.8, 1.7, 0.3],\n",
       "       [5.1, 3.8, 1.5, 0.3]])"
      ]
     },
     "execution_count": 40,
     "metadata": {},
     "output_type": "execute_result"
    }
   ],
   "source": [
    "X[0:20,:]"
   ]
  },
  {
   "cell_type": "code",
   "execution_count": 41,
   "metadata": {},
   "outputs": [
    {
     "data": {
      "text/plain": [
       "array([[1.],\n",
       "       [1.],\n",
       "       [1.],\n",
       "       [1.],\n",
       "       [1.],\n",
       "       [1.],\n",
       "       [1.],\n",
       "       [1.],\n",
       "       [1.],\n",
       "       [1.],\n",
       "       [1.],\n",
       "       [1.],\n",
       "       [1.],\n",
       "       [1.],\n",
       "       [1.],\n",
       "       [1.],\n",
       "       [1.],\n",
       "       [1.],\n",
       "       [1.],\n",
       "       [1.]])"
      ]
     },
     "execution_count": 41,
     "metadata": {},
     "output_type": "execute_result"
    }
   ],
   "source": [
    "satu = np.ones((len(X_train))).reshape(-1,1)\n",
    "satu[0:20,:]"
   ]
  },
  {
   "cell_type": "code",
   "execution_count": 42,
   "metadata": {},
   "outputs": [
    {
     "data": {
      "text/plain": [
       "array([[1. , 6.3, 2.9, 5.6, 1.8],\n",
       "       [1. , 6.7, 3.1, 5.6, 2.4],\n",
       "       [1. , 5.4, 3. , 4.5, 1.5],\n",
       "       [1. , 7. , 3.2, 4.7, 1.4],\n",
       "       [1. , 6. , 3. , 4.8, 1.8],\n",
       "       [1. , 4.6, 3.1, 1.5, 0.2],\n",
       "       [1. , 6.7, 3.3, 5.7, 2.5],\n",
       "       [1. , 5.5, 2.5, 4. , 1.3],\n",
       "       [1. , 4.9, 2.4, 3.3, 1. ],\n",
       "       [1. , 5.1, 3.8, 1.6, 0.2]])"
      ]
     },
     "execution_count": 42,
     "metadata": {},
     "output_type": "execute_result"
    }
   ],
   "source": [
    "X_new = np.concatenate((satu, X_train),axis = 1)\n",
    "X_new[0:10,:]"
   ]
  },
  {
   "cell_type": "code",
   "execution_count": 43,
   "metadata": {},
   "outputs": [],
   "source": [
    "def addintercept(x):\n",
    "    return np.concatenate((np.ones((len(x))).reshape(-1,1), x),axis = 1)"
   ]
  },
  {
   "cell_type": "code",
   "execution_count": 44,
   "metadata": {},
   "outputs": [
    {
     "data": {
      "text/plain": [
       "array([[1. , 6.3, 2.9, 5.6, 1.8],\n",
       "       [1. , 6.7, 3.1, 5.6, 2.4],\n",
       "       [1. , 5.4, 3. , 4.5, 1.5],\n",
       "       [1. , 7. , 3.2, 4.7, 1.4],\n",
       "       [1. , 6. , 3. , 4.8, 1.8],\n",
       "       [1. , 4.6, 3.1, 1.5, 0.2],\n",
       "       [1. , 6.7, 3.3, 5.7, 2.5],\n",
       "       [1. , 5.5, 2.5, 4. , 1.3],\n",
       "       [1. , 4.9, 2.4, 3.3, 1. ],\n",
       "       [1. , 5.1, 3.8, 1.6, 0.2]])"
      ]
     },
     "execution_count": 44,
     "metadata": {},
     "output_type": "execute_result"
    }
   ],
   "source": [
    "X_new = addintercept(X_train)\n",
    "X_new[0:10,:]"
   ]
  },
  {
   "cell_type": "code",
   "execution_count": 45,
   "metadata": {},
   "outputs": [
    {
     "data": {
      "text/plain": [
       "array([[0., 0., 1.],\n",
       "       [0., 0., 1.],\n",
       "       [0., 1., 0.],\n",
       "       [0., 1., 0.],\n",
       "       [0., 0., 1.],\n",
       "       [1., 0., 0.],\n",
       "       [0., 0., 1.],\n",
       "       [0., 1., 0.],\n",
       "       [0., 1., 0.],\n",
       "       [1., 0., 0.]])"
      ]
     },
     "execution_count": 45,
     "metadata": {},
     "output_type": "execute_result"
    }
   ],
   "source": [
    "y_new = relabel_data(y_train)\n",
    "y_new[0:10,:]"
   ]
  },
  {
   "cell_type": "code",
   "execution_count": 61,
   "metadata": {},
   "outputs": [
    {
     "data": {
      "text/plain": [
       "5"
      ]
     },
     "execution_count": 61,
     "metadata": {},
     "output_type": "execute_result"
    }
   ],
   "source": [
    "X_new.shape[1]"
   ]
  },
  {
   "cell_type": "markdown",
   "metadata": {},
   "source": [
    "## 4.3 Menginisalisasi Theta"
   ]
  },
  {
   "cell_type": "code",
   "execution_count": 46,
   "metadata": {},
   "outputs": [
    {
     "data": {
      "text/plain": [
       "array([[0., 0., 0.],\n",
       "       [0., 0., 0.],\n",
       "       [0., 0., 0.],\n",
       "       [0., 0., 0.],\n",
       "       [0., 0., 0.]])"
      ]
     },
     "execution_count": 46,
     "metadata": {},
     "output_type": "execute_result"
    }
   ],
   "source": [
    "theta = np.zeros(X_new.shape[1]*len(label)).reshape(X_new.shape[1],y_new.shape[1]) # theta diinisialisasi dengan angka 0\n",
    "theta"
   ]
  },
  {
   "cell_type": "markdown",
   "metadata": {},
   "source": [
    "## 4.4. menghitung z"
   ]
  },
  {
   "cell_type": "code",
   "execution_count": 47,
   "metadata": {},
   "outputs": [
    {
     "data": {
      "text/plain": [
       "array([[0., 0., 0.],\n",
       "       [0., 0., 0.],\n",
       "       [0., 0., 0.],\n",
       "       [0., 0., 0.],\n",
       "       [0., 0., 0.],\n",
       "       [0., 0., 0.],\n",
       "       [0., 0., 0.],\n",
       "       [0., 0., 0.],\n",
       "       [0., 0., 0.],\n",
       "       [0., 0., 0.]])"
      ]
     },
     "execution_count": 47,
     "metadata": {},
     "output_type": "execute_result"
    }
   ],
   "source": [
    "z = np.dot(X_new, theta)\n",
    "z[0:10,]"
   ]
  },
  {
   "cell_type": "markdown",
   "metadata": {},
   "source": [
    "## 4.5. menghitung h"
   ]
  },
  {
   "cell_type": "code",
   "execution_count": 48,
   "metadata": {},
   "outputs": [
    {
     "data": {
      "text/plain": [
       "array([[0.33333333, 0.33333333, 0.33333333],\n",
       "       [0.33333333, 0.33333333, 0.33333333],\n",
       "       [0.33333333, 0.33333333, 0.33333333],\n",
       "       [0.33333333, 0.33333333, 0.33333333],\n",
       "       [0.33333333, 0.33333333, 0.33333333],\n",
       "       [0.33333333, 0.33333333, 0.33333333],\n",
       "       [0.33333333, 0.33333333, 0.33333333],\n",
       "       [0.33333333, 0.33333333, 0.33333333],\n",
       "       [0.33333333, 0.33333333, 0.33333333],\n",
       "       [0.33333333, 0.33333333, 0.33333333]])"
      ]
     },
     "execution_count": 48,
     "metadata": {},
     "output_type": "execute_result"
    }
   ],
   "source": [
    "h = softmax(z)\n",
    "h[0:10,:]"
   ]
  },
  {
   "cell_type": "markdown",
   "metadata": {},
   "source": [
    "## 4.6.  Menghitung gradient"
   ]
  },
  {
   "cell_type": "code",
   "execution_count": 49,
   "metadata": {},
   "outputs": [
    {
     "data": {
      "text/plain": [
       "array([[-2.50000000e-02,  2.50000000e-02, -4.44089210e-17],\n",
       "       [ 1.39444444e-01,  1.10277778e-01, -2.49722222e-01],\n",
       "       [-2.02500000e-01,  1.68333333e-01,  3.41666667e-02],\n",
       "       [ 6.99444444e-01, -8.47222222e-02, -6.14722222e-01],\n",
       "       [ 3.01944444e-01, -1.63888889e-02, -2.85555556e-01]])"
      ]
     },
     "execution_count": 49,
     "metadata": {},
     "output_type": "execute_result"
    }
   ],
   "source": [
    "#gradient = np.dot(X.T, (h - y)) / y.size\n",
    "gradient = np.dot(X_new.T, (h - y_new)) / y_new.shape[0] # rata-rata gradient\n",
    "gradient"
   ]
  },
  {
   "cell_type": "markdown",
   "metadata": {},
   "source": [
    "## 4.7. Update theta"
   ]
  },
  {
   "cell_type": "code",
   "execution_count": 50,
   "metadata": {},
   "outputs": [],
   "source": [
    "alpha = 0.1"
   ]
  },
  {
   "cell_type": "code",
   "execution_count": 51,
   "metadata": {},
   "outputs": [
    {
     "data": {
      "text/plain": [
       "array([[ 2.50000000e-03, -2.50000000e-03,  4.44089210e-18],\n",
       "       [-1.39444444e-02, -1.10277778e-02,  2.49722222e-02],\n",
       "       [ 2.02500000e-02, -1.68333333e-02, -3.41666667e-03],\n",
       "       [-6.99444444e-02,  8.47222222e-03,  6.14722222e-02],\n",
       "       [-3.01944444e-02,  1.63888889e-03,  2.85555556e-02]])"
      ]
     },
     "execution_count": 51,
     "metadata": {},
     "output_type": "execute_result"
    }
   ],
   "source": [
    "theta = theta - alpha * gradient\n",
    "theta"
   ]
  },
  {
   "cell_type": "markdown",
   "metadata": {},
   "source": [
    "## 4.8. Menghitung cost"
   ]
  },
  {
   "cell_type": "code",
   "execution_count": 52,
   "metadata": {},
   "outputs": [
    {
     "data": {
      "text/plain": [
       "1.9095425048844383"
      ]
     },
     "execution_count": 52,
     "metadata": {},
     "output_type": "execute_result"
    }
   ],
   "source": [
    "cost = cost(h, y_new).mean()\n",
    "cost"
   ]
  },
  {
   "cell_type": "markdown",
   "metadata": {},
   "source": [
    "Pada iterasi pertama cost pada semua kelas sama, karena h0, h1, dan h2 masih sama yaiut semua entrinya 0. Nilainya akan berubah pada iterasi ke-2 dan seterusnya."
   ]
  },
  {
   "cell_type": "markdown",
   "metadata": {},
   "source": [
    "## 4.9. Melakukan prediksi"
   ]
  },
  {
   "cell_type": "code",
   "execution_count": 53,
   "metadata": {},
   "outputs": [
    {
     "data": {
      "text/plain": [
       "array([[0.19023795, 0.28444569, 0.52531636],\n",
       "       [0.18497477, 0.28015306, 0.53487217],\n",
       "       [0.21683495, 0.29273315, 0.49043191],\n",
       "       [0.20797075, 0.2835171 , 0.50851215],\n",
       "       [0.20622798, 0.28828   , 0.50549202],\n",
       "       [0.29552644, 0.30072863, 0.40374493],\n",
       "       [0.18337805, 0.27873872, 0.53788324],\n",
       "       [0.22518593, 0.29598529, 0.47882878],\n",
       "       [0.24385335, 0.3011074 , 0.45503925],\n",
       "       [0.2950669 , 0.29530059, 0.40963251],\n",
       "       [0.30038482, 0.2970269 , 0.40258827],\n",
       "       [0.18343285, 0.28129587, 0.53527128],\n",
       "       [0.29602247, 0.28981768, 0.41415986],\n",
       "       [0.22387232, 0.29346524, 0.48266244],\n",
       "       [0.19826043, 0.28795805, 0.51378153],\n",
       "       [0.29503811, 0.29953947, 0.40542242],\n",
       "       [0.18638587, 0.2833886 , 0.53022553],\n",
       "       [0.19600619, 0.28788312, 0.51611068],\n",
       "       [0.2127528 , 0.28915299, 0.49809422],\n",
       "       [0.30194601, 0.29128385, 0.40677013],\n",
       "       [0.29070308, 0.29960624, 0.40969067],\n",
       "       [0.29570823, 0.29993474, 0.40435704],\n",
       "       [0.17990769, 0.27964676, 0.54044555],\n",
       "       [0.16472938, 0.27232258, 0.56294804],\n",
       "       [0.21435445, 0.28721497, 0.49843057],\n",
       "       [0.29116587, 0.29755322, 0.4112809 ],\n",
       "       [0.29635256, 0.29520888, 0.40843856],\n",
       "       [0.19802636, 0.28352023, 0.51845341],\n",
       "       [0.22243885, 0.29279389, 0.48476726],\n",
       "       [0.29667645, 0.29674568, 0.40657787],\n",
       "       [0.20956345, 0.29211617, 0.49832039],\n",
       "       [0.18987327, 0.28057007, 0.52955666],\n",
       "       [0.29465518, 0.3049448 , 0.40040002],\n",
       "       [0.22531399, 0.29308713, 0.48159889],\n",
       "       [0.16722205, 0.26808101, 0.56469695],\n",
       "       [0.19160695, 0.28336792, 0.52502513],\n",
       "       [0.18066139, 0.27829068, 0.54104792],\n",
       "       [0.19221674, 0.28227974, 0.52550352],\n",
       "       [0.30019835, 0.29970343, 0.40009822],\n",
       "       [0.24286645, 0.30109074, 0.45604281],\n",
       "       [0.31010092, 0.29785232, 0.39204676],\n",
       "       [0.20096691, 0.28725116, 0.51178193],\n",
       "       [0.20397645, 0.28746119, 0.50856237],\n",
       "       [0.29489903, 0.29720329, 0.40789768],\n",
       "       [0.21597044, 0.29173617, 0.49229339],\n",
       "       [0.16676769, 0.27230382, 0.56092849],\n",
       "       [0.29754611, 0.3024787 , 0.39997519],\n",
       "       [0.29679459, 0.29662151, 0.40658389],\n",
       "       [0.19245505, 0.28348596, 0.52405899],\n",
       "       [0.19944582, 0.28938056, 0.51117362],\n",
       "       [0.22766777, 0.29403656, 0.47829567],\n",
       "       [0.20126696, 0.29159976, 0.50713328],\n",
       "       [0.2254685 , 0.29392182, 0.48060968],\n",
       "       [0.29411186, 0.29848216, 0.40740598],\n",
       "       [0.20320841, 0.28913405, 0.50765754],\n",
       "       [0.17595361, 0.27332058, 0.55072581],\n",
       "       [0.2149066 , 0.29701378, 0.48807961],\n",
       "       [0.24873023, 0.30000592, 0.45126385],\n",
       "       [0.2144014 , 0.28629802, 0.49930058],\n",
       "       [0.18713565, 0.28362429, 0.52924005],\n",
       "       [0.18510383, 0.27905724, 0.53583892],\n",
       "       [0.29865281, 0.29915098, 0.40219621],\n",
       "       [0.19251668, 0.28254829, 0.52493502],\n",
       "       [0.29889478, 0.29658235, 0.40452287],\n",
       "       [0.20982258, 0.28621806, 0.50395936],\n",
       "       [0.17270047, 0.26886706, 0.55843247],\n",
       "       [0.28981262, 0.29695865, 0.41322872],\n",
       "       [0.28736234, 0.29857433, 0.41406333],\n",
       "       [0.20097105, 0.28899062, 0.51003833],\n",
       "       [0.21347483, 0.28690293, 0.49962223],\n",
       "       [0.21155903, 0.29009856, 0.49834241],\n",
       "       [0.20345266, 0.28360762, 0.51293972],\n",
       "       [0.29338505, 0.29987356, 0.40674139],\n",
       "       [0.28685386, 0.2975844 , 0.41556175],\n",
       "       [0.23725195, 0.29607792, 0.46667013],\n",
       "       [0.29475451, 0.29564749, 0.40959799],\n",
       "       [0.2035583 , 0.29042948, 0.50601221],\n",
       "       [0.19257123, 0.2826731 , 0.52475567],\n",
       "       [0.23464861, 0.29458398, 0.4707674 ],\n",
       "       [0.20445285, 0.28809417, 0.50745298],\n",
       "       [0.20118608, 0.28784254, 0.51097138],\n",
       "       [0.20043686, 0.28428889, 0.51527425],\n",
       "       [0.21746216, 0.28908619, 0.49345165],\n",
       "       [0.22037955, 0.29102512, 0.48859533],\n",
       "       [0.21621786, 0.29246252, 0.49131961],\n",
       "       [0.21040803, 0.28928827, 0.5003037 ],\n",
       "       [0.28890628, 0.29602503, 0.41506869],\n",
       "       [0.28884961, 0.29279504, 0.41835535],\n",
       "       [0.30100113, 0.29841865, 0.40058022],\n",
       "       [0.23312298, 0.29755015, 0.46932686],\n",
       "       [0.21094241, 0.28726166, 0.50179592],\n",
       "       [0.29405481, 0.29949304, 0.40645214],\n",
       "       [0.21376147, 0.29016337, 0.49607516],\n",
       "       [0.18348256, 0.28317629, 0.53334116],\n",
       "       [0.29501444, 0.29630549, 0.40868007],\n",
       "       [0.19277765, 0.28761203, 0.51961031],\n",
       "       [0.29521482, 0.3003014 , 0.40448378],\n",
       "       [0.29228739, 0.29994903, 0.40776358],\n",
       "       [0.30167841, 0.30091764, 0.39740395],\n",
       "       [0.22861781, 0.29662983, 0.47475236],\n",
       "       [0.29539263, 0.29761392, 0.40699345],\n",
       "       [0.29807935, 0.2949831 , 0.40693755],\n",
       "       [0.30043892, 0.30191217, 0.39764891],\n",
       "       [0.21883212, 0.2947605 , 0.48640738],\n",
       "       [0.30008614, 0.29163739, 0.40827647],\n",
       "       [0.20175489, 0.28767897, 0.51056614],\n",
       "       [0.29573826, 0.29492364, 0.4093381 ],\n",
       "       [0.19995753, 0.29083952, 0.50920295],\n",
       "       [0.29957149, 0.29697157, 0.40345694],\n",
       "       [0.19359565, 0.2812039 , 0.52520046],\n",
       "       [0.18811176, 0.28111427, 0.53077397],\n",
       "       [0.23028834, 0.29719065, 0.472521  ],\n",
       "       [0.22402194, 0.29534987, 0.48062819],\n",
       "       [0.29524162, 0.29451426, 0.41024412],\n",
       "       [0.17301584, 0.27345848, 0.55352568],\n",
       "       [0.22418266, 0.29686016, 0.47895717],\n",
       "       [0.289955  , 0.29350434, 0.41654066],\n",
       "       [0.29841104, 0.30017687, 0.40141208],\n",
       "       [0.15883689, 0.27129619, 0.56986691],\n",
       "       [0.29778455, 0.29666501, 0.40555044]])"
      ]
     },
     "execution_count": 53,
     "metadata": {},
     "output_type": "execute_result"
    }
   ],
   "source": [
    "pred = predict(X_new,theta)\n",
    "pred"
   ]
  },
  {
   "cell_type": "markdown",
   "metadata": {},
   "source": [
    "## 4.10. Mencari nilai prediksi yang paling maksimal dan mengkonversi menjadi kelas"
   ]
  },
  {
   "cell_type": "code",
   "execution_count": 54,
   "metadata": {},
   "outputs": [
    {
     "data": {
      "text/plain": [
       "array([0., 0., 0., 0., 0., 0., 0., 0., 0., 0., 0., 0., 0., 0., 0., 0., 0.,\n",
       "       0., 0., 0., 0., 0., 0., 0., 0., 0., 0., 0., 0., 0., 0., 0., 0., 0.,\n",
       "       0., 0., 0., 0., 0., 0., 0., 0., 0., 0., 0., 0., 0., 0., 0., 0., 0.,\n",
       "       0., 0., 0., 0., 0., 0., 0., 0., 0., 0., 0., 0., 0., 0., 0., 0., 0.,\n",
       "       0., 0., 0., 0., 0., 0., 0., 0., 0., 0., 0., 0., 0., 0., 0., 0., 0.,\n",
       "       0., 0., 0., 0., 0., 0., 0., 0., 0., 0., 0., 0., 0., 0., 0., 0., 0.,\n",
       "       0., 0., 0., 0., 0., 0., 0., 0., 0., 0., 0., 0., 0., 0., 0., 0., 0.,\n",
       "       0.])"
      ]
     },
     "execution_count": 54,
     "metadata": {},
     "output_type": "execute_result"
    }
   ],
   "source": [
    "pred_max = np.zeros(len(pred))\n",
    "pred_max"
   ]
  },
  {
   "cell_type": "code",
   "execution_count": 55,
   "metadata": {},
   "outputs": [
    {
     "data": {
      "text/plain": [
       "array([False, False,  True])"
      ]
     },
     "execution_count": 55,
     "metadata": {},
     "output_type": "execute_result"
    }
   ],
   "source": [
    "pred [1,:] == max(pred[1,:])"
   ]
  },
  {
   "cell_type": "code",
   "execution_count": 56,
   "metadata": {},
   "outputs": [
    {
     "data": {
      "text/plain": [
       "2"
      ]
     },
     "execution_count": 56,
     "metadata": {},
     "output_type": "execute_result"
    }
   ],
   "source": [
    "rr = np.where(pred [1,:] == max(pred[1,:]))\n",
    "rr[0][0]"
   ]
  },
  {
   "cell_type": "code",
   "execution_count": 57,
   "metadata": {},
   "outputs": [],
   "source": [
    "for i in range(len(pred)):\n",
    "    rr = np.where(pred [i,:] == max(pred[i,:]))\n",
    "    pred_max[i] = rr[0][0]"
   ]
  },
  {
   "cell_type": "code",
   "execution_count": 58,
   "metadata": {},
   "outputs": [
    {
     "data": {
      "text/plain": [
       "array([2., 2., 2., 2., 2., 2., 2., 2., 2., 2., 2., 2., 2., 2., 2., 2., 2.,\n",
       "       2., 2., 2., 2., 2., 2., 2., 2., 2., 2., 2., 2., 2., 2., 2., 2., 2.,\n",
       "       2., 2., 2., 2., 2., 2., 2., 2., 2., 2., 2., 2., 2., 2., 2., 2., 2.,\n",
       "       2., 2., 2., 2., 2., 2., 2., 2., 2., 2., 2., 2., 2., 2., 2., 2., 2.,\n",
       "       2., 2., 2., 2., 2., 2., 2., 2., 2., 2., 2., 2., 2., 2., 2., 2., 2.,\n",
       "       2., 2., 2., 2., 2., 2., 2., 2., 2., 2., 2., 2., 2., 2., 2., 2., 2.,\n",
       "       2., 2., 2., 2., 2., 2., 2., 2., 2., 2., 2., 2., 2., 2., 2., 2., 2.,\n",
       "       2.])"
      ]
     },
     "execution_count": 58,
     "metadata": {},
     "output_type": "execute_result"
    }
   ],
   "source": [
    "pred_max"
   ]
  },
  {
   "cell_type": "code",
   "execution_count": 59,
   "metadata": {},
   "outputs": [
    {
     "data": {
      "text/plain": [
       "array([2, 2, 1, 1, 2, 0, 2, 1, 1, 0, 0, 2, 0, 1, 2, 0, 2, 2, 1, 0, 0, 0,\n",
       "       2, 2, 1, 0, 0, 2, 1, 0, 1, 2, 0, 1, 2, 2, 2, 2, 0, 1, 0, 2, 2, 0,\n",
       "       1, 2, 0, 0, 2, 2, 1, 2, 1, 0, 1, 2, 2, 1, 1, 2, 2, 0, 2, 0, 1, 2,\n",
       "       0, 0, 1, 1, 1, 1, 0, 0, 1, 0, 2, 2, 1, 2, 2, 1, 1, 1, 1, 1, 0, 0,\n",
       "       0, 1, 1, 0, 1, 2, 0, 2, 0, 0, 0, 1, 0, 0, 0, 1, 0, 2, 0, 2, 0, 2,\n",
       "       2, 1, 1, 0, 2, 1, 0, 0, 2, 0])"
      ]
     },
     "execution_count": 59,
     "metadata": {},
     "output_type": "execute_result"
    }
   ],
   "source": [
    "y_train"
   ]
  },
  {
   "cell_type": "code",
   "execution_count": null,
   "metadata": {},
   "outputs": [],
   "source": []
  }
 ],
 "metadata": {
  "kernelspec": {
   "display_name": "Python 3",
   "language": "python",
   "name": "python3"
  },
  "language_info": {
   "codemirror_mode": {
    "name": "ipython",
    "version": 3
   },
   "file_extension": ".py",
   "mimetype": "text/x-python",
   "name": "python",
   "nbconvert_exporter": "python",
   "pygments_lexer": "ipython3",
   "version": "3.7.5"
  }
 },
 "nbformat": 4,
 "nbformat_minor": 4
}
